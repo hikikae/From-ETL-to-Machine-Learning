{
  "cells": [
    {
      "cell_type": "code",
      "execution_count": null,
      "metadata": {
        "id": "6H8S-jI6bGvk"
      },
      "outputs": [],
      "source": [
        "#Instalamos las librerias\n",
        "!pip install surprise\n",
        "!pip install scikit-surprise\n",
        "!pip install gradio"
      ]
    },
    {
      "cell_type": "code",
      "execution_count": null,
      "metadata": {
        "id": "FT4rZQjKO91p"
      },
      "outputs": [],
      "source": [
        "from gradio.layouts import Column\n",
        "import gradio as gr\n",
        "from pandas.io.parquet import read_parquet\n",
        "import pandas as pd\n",
        "from surprise import Dataset\n",
        "from surprise import Reader\n",
        "from surprise.model_selection import train_test_split\n",
        "from surprise import SVD"
      ]
    },
    {
      "cell_type": "code",
      "execution_count": null,
      "metadata": {
        "colab": {
          "base_uri": "https://localhost:8080/",
          "height": 112
        },
        "id": "6036grd_PBTf",
        "outputId": "d8fac5c3-b6d2-461c-836e-82bcdd24f3df"
      },
      "outputs": [
        {
          "output_type": "execute_result",
          "data": {
            "text/plain": [
              "   userId  score movieId\n",
              "0       1    1.0   as680\n",
              "1       1    4.5  ns2186"
            ],
            "text/html": [
              "\n",
              "  <div id=\"df-9151ca6b-950d-491c-bc3b-50052d46e1df\">\n",
              "    <div class=\"colab-df-container\">\n",
              "      <div>\n",
              "<style scoped>\n",
              "    .dataframe tbody tr th:only-of-type {\n",
              "        vertical-align: middle;\n",
              "    }\n",
              "\n",
              "    .dataframe tbody tr th {\n",
              "        vertical-align: top;\n",
              "    }\n",
              "\n",
              "    .dataframe thead th {\n",
              "        text-align: right;\n",
              "    }\n",
              "</style>\n",
              "<table border=\"1\" class=\"dataframe\">\n",
              "  <thead>\n",
              "    <tr style=\"text-align: right;\">\n",
              "      <th></th>\n",
              "      <th>userId</th>\n",
              "      <th>score</th>\n",
              "      <th>movieId</th>\n",
              "    </tr>\n",
              "  </thead>\n",
              "  <tbody>\n",
              "    <tr>\n",
              "      <th>0</th>\n",
              "      <td>1</td>\n",
              "      <td>1.0</td>\n",
              "      <td>as680</td>\n",
              "    </tr>\n",
              "    <tr>\n",
              "      <th>1</th>\n",
              "      <td>1</td>\n",
              "      <td>4.5</td>\n",
              "      <td>ns2186</td>\n",
              "    </tr>\n",
              "  </tbody>\n",
              "</table>\n",
              "</div>\n",
              "      <button class=\"colab-df-convert\" onclick=\"convertToInteractive('df-9151ca6b-950d-491c-bc3b-50052d46e1df')\"\n",
              "              title=\"Convert this dataframe to an interactive table.\"\n",
              "              style=\"display:none;\">\n",
              "        \n",
              "  <svg xmlns=\"http://www.w3.org/2000/svg\" height=\"24px\"viewBox=\"0 0 24 24\"\n",
              "       width=\"24px\">\n",
              "    <path d=\"M0 0h24v24H0V0z\" fill=\"none\"/>\n",
              "    <path d=\"M18.56 5.44l.94 2.06.94-2.06 2.06-.94-2.06-.94-.94-2.06-.94 2.06-2.06.94zm-11 1L8.5 8.5l.94-2.06 2.06-.94-2.06-.94L8.5 2.5l-.94 2.06-2.06.94zm10 10l.94 2.06.94-2.06 2.06-.94-2.06-.94-.94-2.06-.94 2.06-2.06.94z\"/><path d=\"M17.41 7.96l-1.37-1.37c-.4-.4-.92-.59-1.43-.59-.52 0-1.04.2-1.43.59L10.3 9.45l-7.72 7.72c-.78.78-.78 2.05 0 2.83L4 21.41c.39.39.9.59 1.41.59.51 0 1.02-.2 1.41-.59l7.78-7.78 2.81-2.81c.8-.78.8-2.07 0-2.86zM5.41 20L4 18.59l7.72-7.72 1.47 1.35L5.41 20z\"/>\n",
              "  </svg>\n",
              "      </button>\n",
              "      \n",
              "  <style>\n",
              "    .colab-df-container {\n",
              "      display:flex;\n",
              "      flex-wrap:wrap;\n",
              "      gap: 12px;\n",
              "    }\n",
              "\n",
              "    .colab-df-convert {\n",
              "      background-color: #E8F0FE;\n",
              "      border: none;\n",
              "      border-radius: 50%;\n",
              "      cursor: pointer;\n",
              "      display: none;\n",
              "      fill: #1967D2;\n",
              "      height: 32px;\n",
              "      padding: 0 0 0 0;\n",
              "      width: 32px;\n",
              "    }\n",
              "\n",
              "    .colab-df-convert:hover {\n",
              "      background-color: #E2EBFA;\n",
              "      box-shadow: 0px 1px 2px rgba(60, 64, 67, 0.3), 0px 1px 3px 1px rgba(60, 64, 67, 0.15);\n",
              "      fill: #174EA6;\n",
              "    }\n",
              "\n",
              "    [theme=dark] .colab-df-convert {\n",
              "      background-color: #3B4455;\n",
              "      fill: #D2E3FC;\n",
              "    }\n",
              "\n",
              "    [theme=dark] .colab-df-convert:hover {\n",
              "      background-color: #434B5C;\n",
              "      box-shadow: 0px 1px 3px 1px rgba(0, 0, 0, 0.15);\n",
              "      filter: drop-shadow(0px 1px 2px rgba(0, 0, 0, 0.3));\n",
              "      fill: #FFFFFF;\n",
              "    }\n",
              "  </style>\n",
              "\n",
              "      <script>\n",
              "        const buttonEl =\n",
              "          document.querySelector('#df-9151ca6b-950d-491c-bc3b-50052d46e1df button.colab-df-convert');\n",
              "        buttonEl.style.display =\n",
              "          google.colab.kernel.accessAllowed ? 'block' : 'none';\n",
              "\n",
              "        async function convertToInteractive(key) {\n",
              "          const element = document.querySelector('#df-9151ca6b-950d-491c-bc3b-50052d46e1df');\n",
              "          const dataTable =\n",
              "            await google.colab.kernel.invokeFunction('convertToInteractive',\n",
              "                                                     [key], {});\n",
              "          if (!dataTable) return;\n",
              "\n",
              "          const docLinkHtml = 'Like what you see? Visit the ' +\n",
              "            '<a target=\"_blank\" href=https://colab.research.google.com/notebooks/data_table.ipynb>data table notebook</a>'\n",
              "            + ' to learn more about interactive tables.';\n",
              "          element.innerHTML = '';\n",
              "          dataTable['output_type'] = 'display_data';\n",
              "          await google.colab.output.renderOutput(dataTable, element);\n",
              "          const docLink = document.createElement('div');\n",
              "          docLink.innerHTML = docLinkHtml;\n",
              "          element.appendChild(docLink);\n",
              "        }\n",
              "      </script>\n",
              "    </div>\n",
              "  </div>\n",
              "  "
            ]
          },
          "metadata": {},
          "execution_count": 6
        }
      ],
      "source": [
        "df1= read_parquet('/content/drive/MyDrive/rating.parquet', columns=['userId', 'score','id'])\n",
        "df1.rename(columns = {'id': 'movieId'}, inplace = True)\n",
        "df1.head(2)"
      ]
    },
    {
      "cell_type": "code",
      "execution_count": null,
      "metadata": {
        "colab": {
          "base_uri": "https://localhost:8080/",
          "height": 112
        },
        "id": "ivh2ItctQDSY",
        "outputId": "b50a8592-46bb-4679-854b-14646af5716b"
      },
      "outputs": [
        {
          "output_type": "execute_result",
          "data": {
            "text/plain": [
              "  movieId                 title\n",
              "0     as1   the grand seduction\n",
              "1     as2  take care good night"
            ],
            "text/html": [
              "\n",
              "  <div id=\"df-2bfd8a2f-579e-4126-9c28-6598a145f000\">\n",
              "    <div class=\"colab-df-container\">\n",
              "      <div>\n",
              "<style scoped>\n",
              "    .dataframe tbody tr th:only-of-type {\n",
              "        vertical-align: middle;\n",
              "    }\n",
              "\n",
              "    .dataframe tbody tr th {\n",
              "        vertical-align: top;\n",
              "    }\n",
              "\n",
              "    .dataframe thead th {\n",
              "        text-align: right;\n",
              "    }\n",
              "</style>\n",
              "<table border=\"1\" class=\"dataframe\">\n",
              "  <thead>\n",
              "    <tr style=\"text-align: right;\">\n",
              "      <th></th>\n",
              "      <th>movieId</th>\n",
              "      <th>title</th>\n",
              "    </tr>\n",
              "  </thead>\n",
              "  <tbody>\n",
              "    <tr>\n",
              "      <th>0</th>\n",
              "      <td>as1</td>\n",
              "      <td>the grand seduction</td>\n",
              "    </tr>\n",
              "    <tr>\n",
              "      <th>1</th>\n",
              "      <td>as2</td>\n",
              "      <td>take care good night</td>\n",
              "    </tr>\n",
              "  </tbody>\n",
              "</table>\n",
              "</div>\n",
              "      <button class=\"colab-df-convert\" onclick=\"convertToInteractive('df-2bfd8a2f-579e-4126-9c28-6598a145f000')\"\n",
              "              title=\"Convert this dataframe to an interactive table.\"\n",
              "              style=\"display:none;\">\n",
              "        \n",
              "  <svg xmlns=\"http://www.w3.org/2000/svg\" height=\"24px\"viewBox=\"0 0 24 24\"\n",
              "       width=\"24px\">\n",
              "    <path d=\"M0 0h24v24H0V0z\" fill=\"none\"/>\n",
              "    <path d=\"M18.56 5.44l.94 2.06.94-2.06 2.06-.94-2.06-.94-.94-2.06-.94 2.06-2.06.94zm-11 1L8.5 8.5l.94-2.06 2.06-.94-2.06-.94L8.5 2.5l-.94 2.06-2.06.94zm10 10l.94 2.06.94-2.06 2.06-.94-2.06-.94-.94-2.06-.94 2.06-2.06.94z\"/><path d=\"M17.41 7.96l-1.37-1.37c-.4-.4-.92-.59-1.43-.59-.52 0-1.04.2-1.43.59L10.3 9.45l-7.72 7.72c-.78.78-.78 2.05 0 2.83L4 21.41c.39.39.9.59 1.41.59.51 0 1.02-.2 1.41-.59l7.78-7.78 2.81-2.81c.8-.78.8-2.07 0-2.86zM5.41 20L4 18.59l7.72-7.72 1.47 1.35L5.41 20z\"/>\n",
              "  </svg>\n",
              "      </button>\n",
              "      \n",
              "  <style>\n",
              "    .colab-df-container {\n",
              "      display:flex;\n",
              "      flex-wrap:wrap;\n",
              "      gap: 12px;\n",
              "    }\n",
              "\n",
              "    .colab-df-convert {\n",
              "      background-color: #E8F0FE;\n",
              "      border: none;\n",
              "      border-radius: 50%;\n",
              "      cursor: pointer;\n",
              "      display: none;\n",
              "      fill: #1967D2;\n",
              "      height: 32px;\n",
              "      padding: 0 0 0 0;\n",
              "      width: 32px;\n",
              "    }\n",
              "\n",
              "    .colab-df-convert:hover {\n",
              "      background-color: #E2EBFA;\n",
              "      box-shadow: 0px 1px 2px rgba(60, 64, 67, 0.3), 0px 1px 3px 1px rgba(60, 64, 67, 0.15);\n",
              "      fill: #174EA6;\n",
              "    }\n",
              "\n",
              "    [theme=dark] .colab-df-convert {\n",
              "      background-color: #3B4455;\n",
              "      fill: #D2E3FC;\n",
              "    }\n",
              "\n",
              "    [theme=dark] .colab-df-convert:hover {\n",
              "      background-color: #434B5C;\n",
              "      box-shadow: 0px 1px 3px 1px rgba(0, 0, 0, 0.15);\n",
              "      filter: drop-shadow(0px 1px 2px rgba(0, 0, 0, 0.3));\n",
              "      fill: #FFFFFF;\n",
              "    }\n",
              "  </style>\n",
              "\n",
              "      <script>\n",
              "        const buttonEl =\n",
              "          document.querySelector('#df-2bfd8a2f-579e-4126-9c28-6598a145f000 button.colab-df-convert');\n",
              "        buttonEl.style.display =\n",
              "          google.colab.kernel.accessAllowed ? 'block' : 'none';\n",
              "\n",
              "        async function convertToInteractive(key) {\n",
              "          const element = document.querySelector('#df-2bfd8a2f-579e-4126-9c28-6598a145f000');\n",
              "          const dataTable =\n",
              "            await google.colab.kernel.invokeFunction('convertToInteractive',\n",
              "                                                     [key], {});\n",
              "          if (!dataTable) return;\n",
              "\n",
              "          const docLinkHtml = 'Like what you see? Visit the ' +\n",
              "            '<a target=\"_blank\" href=https://colab.research.google.com/notebooks/data_table.ipynb>data table notebook</a>'\n",
              "            + ' to learn more about interactive tables.';\n",
              "          element.innerHTML = '';\n",
              "          dataTable['output_type'] = 'display_data';\n",
              "          await google.colab.output.renderOutput(dataTable, element);\n",
              "          const docLink = document.createElement('div');\n",
              "          docLink.innerHTML = docLinkHtml;\n",
              "          element.appendChild(docLink);\n",
              "        }\n",
              "      </script>\n",
              "    </div>\n",
              "  </div>\n",
              "  "
            ]
          },
          "metadata": {},
          "execution_count": 7
        }
      ],
      "source": [
        "df_title= read_parquet('/content/drive/MyDrive/plataformas.parquet',columns=['id','title'])\n",
        "df_title.rename(columns = {'id': 'movieId'}, inplace = True)\n",
        "df_title.head(2)"
      ]
    },
    {
      "cell_type": "code",
      "execution_count": null,
      "metadata": {
        "id": "5Yc448HdFPIW"
      },
      "outputs": [],
      "source": [
        "# Definos el objeto de Reader con el intervalo en que va el rating \n",
        "reader = Reader(rating_scale=(1, 5))"
      ]
    },
    {
      "cell_type": "code",
      "execution_count": null,
      "metadata": {
        "id": "epdhuthtFXYH"
      },
      "outputs": [],
      "source": [
        "# Pasamos de un datafrma de pandas a uno de surprise para usar la libreria\n",
        "#tiene que tener un orden definido que es: user (raw) ids, the item (raw) ids, and the ratings, in this order.\n",
        "data = Dataset.load_from_df(df1[['userId', 'movieId', 'score']], reader)"
      ]
    },
    {
      "cell_type": "markdown",
      "metadata": {
        "id": "zpW3FIk0Fznu"
      },
      "source": [
        "Pasos de un ML\n",
        "- Dividir el data en train y test\n",
        "- Instanciar\n",
        "- Entrenar\n",
        "- Predecir\n",
        "- Evaluar"
      ]
    },
    {
      "cell_type": "code",
      "execution_count": null,
      "metadata": {
        "id": "IvYT9Y6ZFw3e"
      },
      "outputs": [],
      "source": [
        "# Dividir el data en train y test con un tamaño de 0.25\n",
        "trainset, testset = train_test_split(data, test_size=0.25)"
      ]
    },
    {
      "cell_type": "code",
      "execution_count": null,
      "metadata": {
        "id": "BQ6-MNGcQVZE"
      },
      "outputs": [],
      "source": [
        "#instanciasmos\n",
        "model = SVD()"
      ]
    },
    {
      "cell_type": "code",
      "execution_count": null,
      "metadata": {
        "id": "F3cYU7uIQXMD",
        "colab": {
          "base_uri": "https://localhost:8080/"
        },
        "outputId": "dbaefc02-a57e-4cd5-da5c-f21176176040"
      },
      "outputs": [
        {
          "output_type": "execute_result",
          "data": {
            "text/plain": [
              "<surprise.prediction_algorithms.matrix_factorization.SVD at 0x7fe1f3401d00>"
            ]
          },
          "metadata": {},
          "execution_count": 12
        }
      ],
      "source": [
        "# Entrenmos el modelo con los datos de entrenamiento\n",
        "model.fit(trainset)"
      ]
    },
    {
      "cell_type": "code",
      "execution_count": null,
      "metadata": {
        "id": "4IJoVb8HYqjK"
      },
      "outputs": [],
      "source": [
        "# Predecimos\n",
        "\n",
        "predictions = model.test(testset)"
      ]
    },
    {
      "cell_type": "code",
      "execution_count": null,
      "metadata": {
        "colab": {
          "base_uri": "https://localhost:8080/"
        },
        "id": "jQR6NLWyQeEb",
        "outputId": "cbfc006e-9572-44c2-d74f-0df047243fcc"
      },
      "outputs": [
        {
          "output_type": "stream",
          "name": "stdout",
          "text": [
            "La calificación predicha para la película con el ID as1 para el usuario con el ID 1 es: 4.5248566082663055\n",
            "Recomendada\n"
          ]
        }
      ],
      "source": [
        "# Hacemos una prediccion \n",
        "user_Id = 1\n",
        "movie_Id = 'as1'\n",
        "\n",
        "# Verificar si el id de la película existe en df_title\n",
        "if movie_Id not in df_title.movieId.values:\n",
        "    print('La película con el ID', movie_Id, 'no existe.')\n",
        "\n",
        "# Verificar si el userId del usuario existe\n",
        "if user_Id not in df1.userId.values:\n",
        "    print('El usuario con id:', user_Id, 'no existe.')\n",
        "\n",
        "# Obtener las calificaciones del usuario en cuestión\n",
        "user_ratings = df1[df1.userId == user_Id]\n",
        "\n",
        "# Obtener la lista de películas vistas por el usuario\n",
        "user_movies = list(user_ratings['movieId'])\n",
        "\n",
        "\n",
        "if movie_Id in user_movies:\n",
        "    print('El usuario ya ha visto esta película.')\n",
        "else:\n",
        "    prediction = model.predict(user_Id, movie_Id)\n",
        "    # Imprimir la calificación predicha y si se recomienda o no la película\n",
        "    print('La calificación predicha para la película con el ID', movie_Id, 'para el usuario con el ID', user_Id, 'es:', prediction.est)\n",
        "    if prediction.est >= 3.5:\n",
        "        print('Recomendada')\n",
        "    else:\n",
        "        print('No recomendada')"
      ]
    },
    {
      "cell_type": "markdown",
      "metadata": {
        "id": "HdwPRK7YXw5s"
      },
      "source": [
        "Evaluacion del modelo "
      ]
    },
    {
      "cell_type": "code",
      "execution_count": null,
      "metadata": {
        "colab": {
          "base_uri": "https://localhost:8080/"
        },
        "id": "fzkcTpcxR3MD",
        "outputId": "1eeaa1de-a90d-463f-b612-4d97b0a8d067"
      },
      "outputs": [
        {
          "name": "stdout",
          "output_type": "stream",
          "text": [
            "RMSE: 1.0013\n"
          ]
        },
        {
          "data": {
            "text/plain": [
              "1.0013177485956397"
            ]
          },
          "execution_count": 15,
          "metadata": {},
          "output_type": "execute_result"
        }
      ],
      "source": [
        "from surprise import accuracy\n",
        "\n",
        "accuracy.rmse(predictions)"
      ]
    },
    {
      "cell_type": "markdown",
      "metadata": {
        "id": "-sRjZnAgX_YC"
      },
      "source": [
        "Optimizacion de hiperparámetros"
      ]
    },
    {
      "cell_type": "code",
      "execution_count": null,
      "metadata": {
        "colab": {
          "base_uri": "https://localhost:8080/"
        },
        "id": "BWZc_WGaX8u4",
        "outputId": "18939dc6-e3b9-429c-90b6-f119d6c92f18"
      },
      "outputs": [
        {
          "name": "stdout",
          "output_type": "stream",
          "text": [
            "1\n",
            "Evaluating RMSE of algorithm SVD on 3 split(s).\n",
            "\n",
            "                  Fold 1  Fold 2  Fold 3  Mean    Std     \n",
            "RMSE (testset)    0.9654  0.9657  0.9662  0.9657  0.0003  \n",
            "Fit time          134.99  148.25  138.29  140.51  5.64    \n",
            "Test time         78.69   86.52   84.15   83.12   3.28    \n",
            "2\n",
            "Evaluating RMSE of algorithm SVD on 3 split(s).\n",
            "\n",
            "                  Fold 1  Fold 2  Fold 3  Mean    Std     \n",
            "RMSE (testset)    0.9665  0.9659  0.9671  0.9665  0.0005  \n",
            "Fit time          138.91  156.45  168.08  154.48  11.99   \n",
            "Test time         96.84   95.31   79.88   90.68   7.66    \n",
            "4\n",
            "Evaluating RMSE of algorithm SVD on 3 split(s).\n",
            "\n",
            "                  Fold 1  Fold 2  Fold 3  Mean    Std     \n",
            "RMSE (testset)    0.9677  0.9678  0.9682  0.9679  0.0002  \n",
            "Fit time          153.98  148.17  150.37  150.84  2.39    \n",
            "Test time         86.99   83.15   83.91   84.68   1.66    \n",
            "8\n",
            "Evaluating RMSE of algorithm SVD on 3 split(s).\n",
            "\n",
            "                  Fold 1  Fold 2  Fold 3  Mean    Std     \n",
            "RMSE (testset)    0.9711  0.9700  0.9704  0.9705  0.0005  \n",
            "Fit time          152.43  160.49  159.34  157.42  3.56    \n",
            "Test time         87.18   84.81   74.03   82.00   5.72    \n",
            "16\n",
            "Evaluating RMSE of algorithm SVD on 3 split(s).\n",
            "\n",
            "                  Fold 1  Fold 2  Fold 3  Mean    Std     \n",
            "RMSE (testset)    0.9749  0.9752  0.9755  0.9752  0.0002  \n",
            "Fit time          167.40  173.66  174.75  171.94  3.24    \n",
            "Test time         85.91   87.16   83.58   85.55   1.49    \n",
            "32\n",
            "Evaluating RMSE of algorithm SVD on 3 split(s).\n",
            "\n",
            "                  Fold 1  Fold 2  Fold 3  Mean    Std     \n",
            "RMSE (testset)    0.9834  0.9825  0.9825  0.9828  0.0004  \n",
            "Fit time          180.69  190.19  183.86  184.91  3.95    \n",
            "Test time         81.42   84.60   82.28   82.77   1.35    \n",
            "64\n",
            "Evaluating RMSE of algorithm SVD on 3 split(s).\n",
            "\n",
            "                  Fold 1  Fold 2  Fold 3  Mean    Std     \n",
            "RMSE (testset)    0.9936  0.9930  0.9933  0.9933  0.0003  \n",
            "Fit time          214.74  222.49  223.51  220.25  3.92    \n",
            "Test time         81.80   82.52   82.07   82.13   0.30    \n",
            "128\n",
            "Evaluating RMSE of algorithm SVD on 3 split(s).\n",
            "\n",
            "                  Fold 1  Fold 2  Fold 3  Mean    Std     \n",
            "RMSE (testset)    1.0043  1.0046  1.0055  1.0048  0.0005  \n",
            "Fit time          284.22  293.31  299.31  292.28  6.20    \n",
            "Test time         82.03   84.56   85.82   84.14   1.57    \n",
            "256\n",
            "Evaluating RMSE of algorithm SVD on 3 split(s).\n",
            "\n",
            "                  Fold 1  Fold 2  Fold 3  Mean    Std     \n",
            "RMSE (testset)    1.0126  1.0126  1.0129  1.0127  0.0002  \n",
            "Fit time          388.11  394.74  401.09  394.64  5.30    \n",
            "Test time         88.93   76.24   87.07   84.08   5.60    \n"
          ]
        }
      ],
      "source": [
        "from surprise.model_selection import cross_validate\n",
        "import numpy as np\n",
        "\n",
        "rmse_test_means = []\n",
        "factores = [1,2,4,8,16,32,64,128,256]\n",
        "\n",
        "for factor in factores:\n",
        "    print(factor)\n",
        "    model = SVD(n_factors=factor)\n",
        "    cv = cross_validate(model, data, measures=['RMSE'], cv = 3, verbose=True)\n",
        "    rmse_test_means.append(np.mean(cv['test_rmse']))"
      ]
    },
    {
      "cell_type": "markdown",
      "metadata": {
        "id": "oNMd2Ej6YzsC"
      },
      "source": []
    },
    {
      "cell_type": "code",
      "execution_count": null,
      "metadata": {
        "colab": {
          "base_uri": "https://localhost:8080/",
          "height": 616
        },
        "id": "5a-jq6aULvcB",
        "outputId": "dce03e45-5c2c-428d-d064-9642f5a4e9a3"
      },
      "outputs": [
        {
          "output_type": "stream",
          "name": "stdout",
          "text": [
            "Colab notebook detected. To show errors in colab notebook, set debug=True in launch()\n",
            "Note: opening Chrome Inspector may crash demo inside Colab notebooks.\n",
            "\n",
            "To create a public link, set `share=True` in `launch()`.\n"
          ]
        },
        {
          "output_type": "display_data",
          "data": {
            "text/plain": [
              "<IPython.core.display.Javascript object>"
            ],
            "application/javascript": [
              "(async (port, path, width, height, cache, element) => {\n",
              "                        if (!google.colab.kernel.accessAllowed && !cache) {\n",
              "                            return;\n",
              "                        }\n",
              "                        element.appendChild(document.createTextNode(''));\n",
              "                        const url = await google.colab.kernel.proxyPort(port, {cache});\n",
              "\n",
              "                        const external_link = document.createElement('div');\n",
              "                        external_link.innerHTML = `\n",
              "                            <div style=\"font-family: monospace; margin-bottom: 0.5rem\">\n",
              "                                Running on <a href=${new URL(path, url).toString()} target=\"_blank\">\n",
              "                                    https://localhost:${port}${path}\n",
              "                                </a>\n",
              "                            </div>\n",
              "                        `;\n",
              "                        element.appendChild(external_link);\n",
              "\n",
              "                        const iframe = document.createElement('iframe');\n",
              "                        iframe.src = new URL(path, url).toString();\n",
              "                        iframe.height = height;\n",
              "                        iframe.allow = \"autoplay; camera; microphone; clipboard-read; clipboard-write;\"\n",
              "                        iframe.width = width;\n",
              "                        iframe.style.border = 0;\n",
              "                        element.appendChild(iframe);\n",
              "                    })(7861, \"/\", \"100%\", 500, false, window.element)"
            ]
          },
          "metadata": {}
        },
        {
          "output_type": "execute_result",
          "data": {
            "text/plain": []
          },
          "metadata": {},
          "execution_count": 18
        }
      ],
      "source": [
        "from gradio.layouts import Column\n",
        "import gradio as gr\n",
        "from pandas.io.parquet import read_parquet\n",
        "import pandas as pd\n",
        "from surprise import Dataset\n",
        "from surprise import Reader\n",
        "from surprise.model_selection import train_test_split\n",
        "from surprise import SVD\n",
        "\n",
        "df_title= read_parquet('/content/drive/MyDrive/plataformas.parquet',columns=['id','title'])\n",
        "df_title.rename(columns = {'id': 'movieId'}, inplace = True)\n",
        "\n",
        "df1= read_parquet('/content/drive/MyDrive/rating.parquet', columns=['userId', 'score','id'])\n",
        "df1.rename(columns = {'id': 'movieId'}, inplace = True)\n",
        "\n",
        "\n",
        "\n",
        "def get_movie_recommendation(user_Id, movie_Id):\n",
        "\n",
        "    # Verificar si el id de la película existe en df_title\n",
        "    if movie_Id not in df_title.movieId.values:\n",
        "      return('La película con el ID', movie_Id, 'no existe.')\n",
        "\n",
        "    # Verificar si el userId del usuario existe\n",
        "    if user_Id not in df1.userId.values:\n",
        "      return('El usuario con id:', user_Id, 'no existe.')\n",
        "\n",
        "    # Obtener las calificaciones del usuario en cuestión\n",
        "    user_ratings = df1[df1.userId == user_Id]\n",
        "\n",
        "    # Obtener la lista de películas vistas por el usuario\n",
        "    user_movies = list(user_ratings['movieId'])\n",
        "\n",
        "\n",
        "    if movie_Id in user_movies:\n",
        "      return ('El usuario ya ha visto esta película.')\n",
        "    else:\n",
        "      prediction = model.predict(user_Id, movie_Id)\n",
        "       \n",
        "      if prediction.est >= 3.5:\n",
        "          return'Super Recomendada',prediction.est\n",
        "      else:\n",
        "          return 'Ni la veas, no te va a gustar',prediction.est\n",
        "  \n",
        "demo = gr.Interface(fn=get_movie_recommendation, inputs=[\"number\",\"text\"], outputs=\"text\")\n",
        "\n",
        "demo.launch()"
      ]
    }
  ],
  "metadata": {
    "colab": {
      "provenance": [],
      "mount_file_id": "1V0bUmC2mgQO_SUlzG1neaUNZM3P6erp1",
      "authorship_tag": "ABX9TyOZ2FgCvNJhKcuxwc2igDlA"
    },
    "kernelspec": {
      "display_name": "Python 3",
      "name": "python3"
    },
    "language_info": {
      "name": "python"
    }
  },
  "nbformat": 4,
  "nbformat_minor": 0
}