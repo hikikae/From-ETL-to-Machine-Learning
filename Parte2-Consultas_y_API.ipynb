{
  "nbformat": 4,
  "nbformat_minor": 0,
  "metadata": {
    "colab": {
      "provenance": [],
      "mount_file_id": "1mLm-9HXJEBYsSerIfaQNT_ZzX8suICkB",
      "authorship_tag": "ABX9TyOcz8vjWcU8rSozjoiN+9GY"
    },
    "kernelspec": {
      "name": "python3",
      "display_name": "Python 3"
    },
    "language_info": {
      "name": "python"
    }
  },
  "cells": [
    {
      "cell_type": "code",
      "execution_count": null,
      "metadata": {
        "id": "mWbKmKsfPfBv"
      },
      "outputs": [],
      "source": [
        "#importamos librerias\n",
        "import pandas as pd"
      ]
    },
    {
      "cell_type": "code",
      "source": [
        "#leemos el archivo para las consultas, en este caso usamos el que tiene el promedio de los scores\n",
        "df=pd.read_parquet('/content/drive/MyDrive/plataformasConScore.parquet')"
      ],
      "metadata": {
        "id": "3ulK0wYUZE-t"
      },
      "execution_count": null,
      "outputs": []
    },
    {
      "cell_type": "code",
      "source": [
        "df.head(2)"
      ],
      "metadata": {
        "colab": {
          "base_uri": "https://localhost:8080/",
          "height": 350
        },
        "id": "zpUjx5gAiCj9",
        "outputId": "f2650551-6322-48c2-8cd6-bc0612a5bc06"
      },
      "execution_count": null,
      "outputs": [
        {
          "output_type": "execute_result",
          "data": {
            "text/plain": [
              "  show_id   type                 title      director  \\\n",
              "0      s1  movie   the grand seduction  don mckellar   \n",
              "1      s2  movie  take care good night  girish joshi   \n",
              "\n",
              "                                               cast country date_added  \\\n",
              "0    brendan gleeson, taylor kitsch, gordon pinsent  canada 2021-03-30   \n",
              "1  mahesh manjrekar, abhay mahajan, sachin khedekar   india 2021-03-30   \n",
              "\n",
              "   release_year rating duration             listed_in  \\\n",
              "0          2014      g  113 min         comedy, drama   \n",
              "1          2018    13+  110 min  drama, international   \n",
              "\n",
              "                                         description   id  duration_int  \\\n",
              "0  a small fishing village must procure a local d...  as1         113.0   \n",
              "1  a metro family decides to fight a cyber crimin...  as2         110.0   \n",
              "\n",
              "  duration_type  score      platform  \n",
              "0           min   3.47  amazon prime  \n",
              "1           min   3.55  amazon prime  "
            ],
            "text/html": [
              "\n",
              "  <div id=\"df-eab891b7-5228-49f1-8699-23e04dd2ac8d\">\n",
              "    <div class=\"colab-df-container\">\n",
              "      <div>\n",
              "<style scoped>\n",
              "    .dataframe tbody tr th:only-of-type {\n",
              "        vertical-align: middle;\n",
              "    }\n",
              "\n",
              "    .dataframe tbody tr th {\n",
              "        vertical-align: top;\n",
              "    }\n",
              "\n",
              "    .dataframe thead th {\n",
              "        text-align: right;\n",
              "    }\n",
              "</style>\n",
              "<table border=\"1\" class=\"dataframe\">\n",
              "  <thead>\n",
              "    <tr style=\"text-align: right;\">\n",
              "      <th></th>\n",
              "      <th>show_id</th>\n",
              "      <th>type</th>\n",
              "      <th>title</th>\n",
              "      <th>director</th>\n",
              "      <th>cast</th>\n",
              "      <th>country</th>\n",
              "      <th>date_added</th>\n",
              "      <th>release_year</th>\n",
              "      <th>rating</th>\n",
              "      <th>duration</th>\n",
              "      <th>listed_in</th>\n",
              "      <th>description</th>\n",
              "      <th>id</th>\n",
              "      <th>duration_int</th>\n",
              "      <th>duration_type</th>\n",
              "      <th>score</th>\n",
              "      <th>platform</th>\n",
              "    </tr>\n",
              "  </thead>\n",
              "  <tbody>\n",
              "    <tr>\n",
              "      <th>0</th>\n",
              "      <td>s1</td>\n",
              "      <td>movie</td>\n",
              "      <td>the grand seduction</td>\n",
              "      <td>don mckellar</td>\n",
              "      <td>brendan gleeson, taylor kitsch, gordon pinsent</td>\n",
              "      <td>canada</td>\n",
              "      <td>2021-03-30</td>\n",
              "      <td>2014</td>\n",
              "      <td>g</td>\n",
              "      <td>113 min</td>\n",
              "      <td>comedy, drama</td>\n",
              "      <td>a small fishing village must procure a local d...</td>\n",
              "      <td>as1</td>\n",
              "      <td>113.0</td>\n",
              "      <td>min</td>\n",
              "      <td>3.47</td>\n",
              "      <td>amazon prime</td>\n",
              "    </tr>\n",
              "    <tr>\n",
              "      <th>1</th>\n",
              "      <td>s2</td>\n",
              "      <td>movie</td>\n",
              "      <td>take care good night</td>\n",
              "      <td>girish joshi</td>\n",
              "      <td>mahesh manjrekar, abhay mahajan, sachin khedekar</td>\n",
              "      <td>india</td>\n",
              "      <td>2021-03-30</td>\n",
              "      <td>2018</td>\n",
              "      <td>13+</td>\n",
              "      <td>110 min</td>\n",
              "      <td>drama, international</td>\n",
              "      <td>a metro family decides to fight a cyber crimin...</td>\n",
              "      <td>as2</td>\n",
              "      <td>110.0</td>\n",
              "      <td>min</td>\n",
              "      <td>3.55</td>\n",
              "      <td>amazon prime</td>\n",
              "    </tr>\n",
              "  </tbody>\n",
              "</table>\n",
              "</div>\n",
              "      <button class=\"colab-df-convert\" onclick=\"convertToInteractive('df-eab891b7-5228-49f1-8699-23e04dd2ac8d')\"\n",
              "              title=\"Convert this dataframe to an interactive table.\"\n",
              "              style=\"display:none;\">\n",
              "        \n",
              "  <svg xmlns=\"http://www.w3.org/2000/svg\" height=\"24px\"viewBox=\"0 0 24 24\"\n",
              "       width=\"24px\">\n",
              "    <path d=\"M0 0h24v24H0V0z\" fill=\"none\"/>\n",
              "    <path d=\"M18.56 5.44l.94 2.06.94-2.06 2.06-.94-2.06-.94-.94-2.06-.94 2.06-2.06.94zm-11 1L8.5 8.5l.94-2.06 2.06-.94-2.06-.94L8.5 2.5l-.94 2.06-2.06.94zm10 10l.94 2.06.94-2.06 2.06-.94-2.06-.94-.94-2.06-.94 2.06-2.06.94z\"/><path d=\"M17.41 7.96l-1.37-1.37c-.4-.4-.92-.59-1.43-.59-.52 0-1.04.2-1.43.59L10.3 9.45l-7.72 7.72c-.78.78-.78 2.05 0 2.83L4 21.41c.39.39.9.59 1.41.59.51 0 1.02-.2 1.41-.59l7.78-7.78 2.81-2.81c.8-.78.8-2.07 0-2.86zM5.41 20L4 18.59l7.72-7.72 1.47 1.35L5.41 20z\"/>\n",
              "  </svg>\n",
              "      </button>\n",
              "      \n",
              "  <style>\n",
              "    .colab-df-container {\n",
              "      display:flex;\n",
              "      flex-wrap:wrap;\n",
              "      gap: 12px;\n",
              "    }\n",
              "\n",
              "    .colab-df-convert {\n",
              "      background-color: #E8F0FE;\n",
              "      border: none;\n",
              "      border-radius: 50%;\n",
              "      cursor: pointer;\n",
              "      display: none;\n",
              "      fill: #1967D2;\n",
              "      height: 32px;\n",
              "      padding: 0 0 0 0;\n",
              "      width: 32px;\n",
              "    }\n",
              "\n",
              "    .colab-df-convert:hover {\n",
              "      background-color: #E2EBFA;\n",
              "      box-shadow: 0px 1px 2px rgba(60, 64, 67, 0.3), 0px 1px 3px 1px rgba(60, 64, 67, 0.15);\n",
              "      fill: #174EA6;\n",
              "    }\n",
              "\n",
              "    [theme=dark] .colab-df-convert {\n",
              "      background-color: #3B4455;\n",
              "      fill: #D2E3FC;\n",
              "    }\n",
              "\n",
              "    [theme=dark] .colab-df-convert:hover {\n",
              "      background-color: #434B5C;\n",
              "      box-shadow: 0px 1px 3px 1px rgba(0, 0, 0, 0.15);\n",
              "      filter: drop-shadow(0px 1px 2px rgba(0, 0, 0, 0.3));\n",
              "      fill: #FFFFFF;\n",
              "    }\n",
              "  </style>\n",
              "\n",
              "      <script>\n",
              "        const buttonEl =\n",
              "          document.querySelector('#df-eab891b7-5228-49f1-8699-23e04dd2ac8d button.colab-df-convert');\n",
              "        buttonEl.style.display =\n",
              "          google.colab.kernel.accessAllowed ? 'block' : 'none';\n",
              "\n",
              "        async function convertToInteractive(key) {\n",
              "          const element = document.querySelector('#df-eab891b7-5228-49f1-8699-23e04dd2ac8d');\n",
              "          const dataTable =\n",
              "            await google.colab.kernel.invokeFunction('convertToInteractive',\n",
              "                                                     [key], {});\n",
              "          if (!dataTable) return;\n",
              "\n",
              "          const docLinkHtml = 'Like what you see? Visit the ' +\n",
              "            '<a target=\"_blank\" href=https://colab.research.google.com/notebooks/data_table.ipynb>data table notebook</a>'\n",
              "            + ' to learn more about interactive tables.';\n",
              "          element.innerHTML = '';\n",
              "          dataTable['output_type'] = 'display_data';\n",
              "          await google.colab.output.renderOutput(dataTable, element);\n",
              "          const docLink = document.createElement('div');\n",
              "          docLink.innerHTML = docLinkHtml;\n",
              "          element.appendChild(docLink);\n",
              "        }\n",
              "      </script>\n",
              "    </div>\n",
              "  </div>\n",
              "  "
            ]
          },
          "metadata": {},
          "execution_count": 3
        }
      ]
    },
    {
      "cell_type": "code",
      "source": [
        "df.info()"
      ],
      "metadata": {
        "colab": {
          "base_uri": "https://localhost:8080/"
        },
        "id": "am5mfB_puKTk",
        "outputId": "c16b3ae8-e3df-4aaa-deb7-9ed241b7ede8"
      },
      "execution_count": null,
      "outputs": [
        {
          "output_type": "stream",
          "name": "stdout",
          "text": [
            "<class 'pandas.core.frame.DataFrame'>\n",
            "RangeIndex: 22998 entries, 0 to 22997\n",
            "Data columns (total 17 columns):\n",
            " #   Column         Non-Null Count  Dtype         \n",
            "---  ------         --------------  -----         \n",
            " 0   show_id        22998 non-null  object        \n",
            " 1   type           22998 non-null  object        \n",
            " 2   title          22998 non-null  object        \n",
            " 3   director       14739 non-null  object        \n",
            " 4   cast           17677 non-null  object        \n",
            " 5   country        11499 non-null  object        \n",
            " 6   date_added     13444 non-null  datetime64[ns]\n",
            " 7   release_year   22998 non-null  int64         \n",
            " 8   rating         22998 non-null  object        \n",
            " 9   duration       22811 non-null  object        \n",
            " 10  listed_in      22998 non-null  object        \n",
            " 11  description    22994 non-null  object        \n",
            " 12  id             22998 non-null  object        \n",
            " 13  duration_int   22811 non-null  float64       \n",
            " 14  duration_type  22811 non-null  object        \n",
            " 15  score          22998 non-null  float64       \n",
            " 16  platform       22998 non-null  object        \n",
            "dtypes: datetime64[ns](1), float64(2), int64(1), object(13)\n",
            "memory usage: 3.0+ MB\n"
          ]
        }
      ]
    },
    {
      "cell_type": "code",
      "source": [
        "# El las columnas de duration_type hay nan y los llenamos con ceros,  y en el caso de duration_int ademas\n",
        "# de llenar con ceros cambiamos el tipo de variable de float64 a int\n",
        "df.duration_type = df.duration_type.fillna(0)\n",
        "df.duration_int = df.duration_int.fillna(0).astype(int)"
      ],
      "metadata": {
        "id": "ruDIvGYDypyp"
      },
      "execution_count": null,
      "outputs": []
    },
    {
      "cell_type": "code",
      "source": [
        "#Con estos pasos volvemos a guardar por si se necesitan en los proximos pasos\n",
        "df.to_csv('/content/drive/MyDrive/dfModificandoDuracion.csv', index=False) "
      ],
      "metadata": {
        "id": "LlcoTxZkEY84"
      },
      "execution_count": null,
      "outputs": []
    },
    {
      "cell_type": "code",
      "source": [
        "df=pd.read_csv('/content/drive/MyDrive/dfModificandoDuracion.csv')"
      ],
      "metadata": {
        "id": "UZ2KruHMgQg6"
      },
      "execution_count": null,
      "outputs": []
    },
    {
      "cell_type": "code",
      "source": [
        "df.head(2)"
      ],
      "metadata": {
        "colab": {
          "base_uri": "https://localhost:8080/",
          "height": 350
        },
        "id": "AxZkvlSIgbyR",
        "outputId": "8f98ea6d-f1fe-4207-a635-15328c53ee01"
      },
      "execution_count": null,
      "outputs": [
        {
          "output_type": "execute_result",
          "data": {
            "text/plain": [
              "  show_id   type                 title      director  \\\n",
              "0      s1  movie   the grand seduction  don mckellar   \n",
              "1      s2  movie  take care good night  girish joshi   \n",
              "\n",
              "                                               cast country  date_added  \\\n",
              "0    brendan gleeson, taylor kitsch, gordon pinsent  canada  2021-03-30   \n",
              "1  mahesh manjrekar, abhay mahajan, sachin khedekar   india  2021-03-30   \n",
              "\n",
              "   release_year rating duration             listed_in  \\\n",
              "0          2014      g  113 min         comedy, drama   \n",
              "1          2018    13+  110 min  drama, international   \n",
              "\n",
              "                                         description   id  duration_int  \\\n",
              "0  a small fishing village must procure a local d...  as1           113   \n",
              "1  a metro family decides to fight a cyber crimin...  as2           110   \n",
              "\n",
              "  duration_type  score      platform  \n",
              "0           min   3.47  amazon prime  \n",
              "1           min   3.55  amazon prime  "
            ],
            "text/html": [
              "\n",
              "  <div id=\"df-28709fdb-758f-4cb9-bc8d-f3bd00981645\">\n",
              "    <div class=\"colab-df-container\">\n",
              "      <div>\n",
              "<style scoped>\n",
              "    .dataframe tbody tr th:only-of-type {\n",
              "        vertical-align: middle;\n",
              "    }\n",
              "\n",
              "    .dataframe tbody tr th {\n",
              "        vertical-align: top;\n",
              "    }\n",
              "\n",
              "    .dataframe thead th {\n",
              "        text-align: right;\n",
              "    }\n",
              "</style>\n",
              "<table border=\"1\" class=\"dataframe\">\n",
              "  <thead>\n",
              "    <tr style=\"text-align: right;\">\n",
              "      <th></th>\n",
              "      <th>show_id</th>\n",
              "      <th>type</th>\n",
              "      <th>title</th>\n",
              "      <th>director</th>\n",
              "      <th>cast</th>\n",
              "      <th>country</th>\n",
              "      <th>date_added</th>\n",
              "      <th>release_year</th>\n",
              "      <th>rating</th>\n",
              "      <th>duration</th>\n",
              "      <th>listed_in</th>\n",
              "      <th>description</th>\n",
              "      <th>id</th>\n",
              "      <th>duration_int</th>\n",
              "      <th>duration_type</th>\n",
              "      <th>score</th>\n",
              "      <th>platform</th>\n",
              "    </tr>\n",
              "  </thead>\n",
              "  <tbody>\n",
              "    <tr>\n",
              "      <th>0</th>\n",
              "      <td>s1</td>\n",
              "      <td>movie</td>\n",
              "      <td>the grand seduction</td>\n",
              "      <td>don mckellar</td>\n",
              "      <td>brendan gleeson, taylor kitsch, gordon pinsent</td>\n",
              "      <td>canada</td>\n",
              "      <td>2021-03-30</td>\n",
              "      <td>2014</td>\n",
              "      <td>g</td>\n",
              "      <td>113 min</td>\n",
              "      <td>comedy, drama</td>\n",
              "      <td>a small fishing village must procure a local d...</td>\n",
              "      <td>as1</td>\n",
              "      <td>113</td>\n",
              "      <td>min</td>\n",
              "      <td>3.47</td>\n",
              "      <td>amazon prime</td>\n",
              "    </tr>\n",
              "    <tr>\n",
              "      <th>1</th>\n",
              "      <td>s2</td>\n",
              "      <td>movie</td>\n",
              "      <td>take care good night</td>\n",
              "      <td>girish joshi</td>\n",
              "      <td>mahesh manjrekar, abhay mahajan, sachin khedekar</td>\n",
              "      <td>india</td>\n",
              "      <td>2021-03-30</td>\n",
              "      <td>2018</td>\n",
              "      <td>13+</td>\n",
              "      <td>110 min</td>\n",
              "      <td>drama, international</td>\n",
              "      <td>a metro family decides to fight a cyber crimin...</td>\n",
              "      <td>as2</td>\n",
              "      <td>110</td>\n",
              "      <td>min</td>\n",
              "      <td>3.55</td>\n",
              "      <td>amazon prime</td>\n",
              "    </tr>\n",
              "  </tbody>\n",
              "</table>\n",
              "</div>\n",
              "      <button class=\"colab-df-convert\" onclick=\"convertToInteractive('df-28709fdb-758f-4cb9-bc8d-f3bd00981645')\"\n",
              "              title=\"Convert this dataframe to an interactive table.\"\n",
              "              style=\"display:none;\">\n",
              "        \n",
              "  <svg xmlns=\"http://www.w3.org/2000/svg\" height=\"24px\"viewBox=\"0 0 24 24\"\n",
              "       width=\"24px\">\n",
              "    <path d=\"M0 0h24v24H0V0z\" fill=\"none\"/>\n",
              "    <path d=\"M18.56 5.44l.94 2.06.94-2.06 2.06-.94-2.06-.94-.94-2.06-.94 2.06-2.06.94zm-11 1L8.5 8.5l.94-2.06 2.06-.94-2.06-.94L8.5 2.5l-.94 2.06-2.06.94zm10 10l.94 2.06.94-2.06 2.06-.94-2.06-.94-.94-2.06-.94 2.06-2.06.94z\"/><path d=\"M17.41 7.96l-1.37-1.37c-.4-.4-.92-.59-1.43-.59-.52 0-1.04.2-1.43.59L10.3 9.45l-7.72 7.72c-.78.78-.78 2.05 0 2.83L4 21.41c.39.39.9.59 1.41.59.51 0 1.02-.2 1.41-.59l7.78-7.78 2.81-2.81c.8-.78.8-2.07 0-2.86zM5.41 20L4 18.59l7.72-7.72 1.47 1.35L5.41 20z\"/>\n",
              "  </svg>\n",
              "      </button>\n",
              "      \n",
              "  <style>\n",
              "    .colab-df-container {\n",
              "      display:flex;\n",
              "      flex-wrap:wrap;\n",
              "      gap: 12px;\n",
              "    }\n",
              "\n",
              "    .colab-df-convert {\n",
              "      background-color: #E8F0FE;\n",
              "      border: none;\n",
              "      border-radius: 50%;\n",
              "      cursor: pointer;\n",
              "      display: none;\n",
              "      fill: #1967D2;\n",
              "      height: 32px;\n",
              "      padding: 0 0 0 0;\n",
              "      width: 32px;\n",
              "    }\n",
              "\n",
              "    .colab-df-convert:hover {\n",
              "      background-color: #E2EBFA;\n",
              "      box-shadow: 0px 1px 2px rgba(60, 64, 67, 0.3), 0px 1px 3px 1px rgba(60, 64, 67, 0.15);\n",
              "      fill: #174EA6;\n",
              "    }\n",
              "\n",
              "    [theme=dark] .colab-df-convert {\n",
              "      background-color: #3B4455;\n",
              "      fill: #D2E3FC;\n",
              "    }\n",
              "\n",
              "    [theme=dark] .colab-df-convert:hover {\n",
              "      background-color: #434B5C;\n",
              "      box-shadow: 0px 1px 3px 1px rgba(0, 0, 0, 0.15);\n",
              "      filter: drop-shadow(0px 1px 2px rgba(0, 0, 0, 0.3));\n",
              "      fill: #FFFFFF;\n",
              "    }\n",
              "  </style>\n",
              "\n",
              "      <script>\n",
              "        const buttonEl =\n",
              "          document.querySelector('#df-28709fdb-758f-4cb9-bc8d-f3bd00981645 button.colab-df-convert');\n",
              "        buttonEl.style.display =\n",
              "          google.colab.kernel.accessAllowed ? 'block' : 'none';\n",
              "\n",
              "        async function convertToInteractive(key) {\n",
              "          const element = document.querySelector('#df-28709fdb-758f-4cb9-bc8d-f3bd00981645');\n",
              "          const dataTable =\n",
              "            await google.colab.kernel.invokeFunction('convertToInteractive',\n",
              "                                                     [key], {});\n",
              "          if (!dataTable) return;\n",
              "\n",
              "          const docLinkHtml = 'Like what you see? Visit the ' +\n",
              "            '<a target=\"_blank\" href=https://colab.research.google.com/notebooks/data_table.ipynb>data table notebook</a>'\n",
              "            + ' to learn more about interactive tables.';\n",
              "          element.innerHTML = '';\n",
              "          dataTable['output_type'] = 'display_data';\n",
              "          await google.colab.output.renderOutput(dataTable, element);\n",
              "          const docLink = document.createElement('div');\n",
              "          docLink.innerHTML = docLinkHtml;\n",
              "          element.appendChild(docLink);\n",
              "        }\n",
              "      </script>\n",
              "    </div>\n",
              "  </div>\n",
              "  "
            ]
          },
          "metadata": {},
          "execution_count": 10
        }
      ]
    },
    {
      "cell_type": "markdown",
      "source": [
        "Revisamos algunas columnas para hacer algunas consideraciones en las consultas"
      ],
      "metadata": {
        "id": "cjhNTgnPT9iV"
      }
    },
    {
      "cell_type": "code",
      "source": [
        "df.type.unique()"
      ],
      "metadata": {
        "colab": {
          "base_uri": "https://localhost:8080/"
        },
        "id": "HbIporCtkwl1",
        "outputId": "a3e4dfbe-c698-4ebe-b013-f8294c7dbdbf"
      },
      "execution_count": null,
      "outputs": [
        {
          "output_type": "execute_result",
          "data": {
            "text/plain": [
              "array(['movie', 'tv show'], dtype=object)"
            ]
          },
          "metadata": {},
          "execution_count": 11
        }
      ]
    },
    {
      "cell_type": "code",
      "source": [
        "df.release_year.min()"
      ],
      "metadata": {
        "colab": {
          "base_uri": "https://localhost:8080/"
        },
        "id": "qkwGzom8gR0O",
        "outputId": "59e475de-f418-448e-ca83-92680d23bf41"
      },
      "execution_count": null,
      "outputs": [
        {
          "output_type": "execute_result",
          "data": {
            "text/plain": [
              "1920"
            ]
          },
          "metadata": {},
          "execution_count": 12
        }
      ]
    },
    {
      "cell_type": "code",
      "source": [
        "df.release_year.max()"
      ],
      "metadata": {
        "colab": {
          "base_uri": "https://localhost:8080/"
        },
        "id": "qeC4xXrdgW1f",
        "outputId": "9647b516-fac3-4d64-e14f-8d0e06634b20"
      },
      "execution_count": null,
      "outputs": [
        {
          "output_type": "execute_result",
          "data": {
            "text/plain": [
              "2021"
            ]
          },
          "metadata": {},
          "execution_count": 13
        }
      ]
    },
    {
      "cell_type": "code",
      "source": [
        "df.score.min()"
      ],
      "metadata": {
        "colab": {
          "base_uri": "https://localhost:8080/"
        },
        "id": "iVAm_jCrmh-8",
        "outputId": "b1e9b7b1-ee85-4747-d1d1-e733e46ec727"
      },
      "execution_count": null,
      "outputs": [
        {
          "output_type": "execute_result",
          "data": {
            "text/plain": [
              "3.34"
            ]
          },
          "metadata": {},
          "execution_count": 14
        }
      ]
    },
    {
      "cell_type": "code",
      "source": [
        "df.score.max()"
      ],
      "metadata": {
        "colab": {
          "base_uri": "https://localhost:8080/"
        },
        "id": "CJE5MQbDmk6E",
        "outputId": "68d83eda-f005-4999-c7f3-40b870d124fe"
      },
      "execution_count": null,
      "outputs": [
        {
          "output_type": "execute_result",
          "data": {
            "text/plain": [
              "3.72"
            ]
          },
          "metadata": {},
          "execution_count": 15
        }
      ]
    },
    {
      "cell_type": "markdown",
      "source": [
        "# Película con mayor duración con filtros opcionales de AÑO, PLATAFORMA Y TIPO DE DURACIÓN. (la función debe llamarse get_max_duration(year, platform, duration_type))"
      ],
      "metadata": {
        "id": "vlxWK8I_ZQLD"
      }
    },
    {
      "cell_type": "code",
      "source": [
        "def get_max_duration(release_year=None, platform=None, duration_type=None):\n",
        "    \n",
        "    global df    \n",
        "    \n",
        "    # Verificar que el año esté dentro del rango válido\n",
        "    if release_year is not None and (release_year <= 1920 or release_year >= 2021):\n",
        "        raise ValueError(\"El año debe estar dentro del rango de 1920 a 2021.\")\n",
        "\n",
        "    # Verificar que la plataforma sea una de las opciones válidas\n",
        "    if platform is not None and platform.lower() not in ['disney', 'amazon', 'hulu', 'netflix']:\n",
        "        raise ValueError(\"La plataforma debe ser una de las opciones válidas: Disney, Amazon, Hulu o Netflix.\")\n",
        "   \n",
        "    #Reemplazando porque en el data coloque los nombres completos de las plataformas\n",
        "    if platform=='disney':\n",
        "        platform='disney plus'\n",
        "  \n",
        "    if platform=='amazon':\n",
        "        platform='amazon prime'\n",
        "\n",
        "    # Verificar que el duracion_type esté dentro del rango válido\n",
        "    if duration_type is not None and duration_type.lower() not in ['min', 'season', 'seasons']:\n",
        "        raise ValueError(\"La duración debe ser una de las opciones válidas: min, season, seasons.\")\n",
        "\n",
        "    # Filtrar por películas únicamente\n",
        "    df_soloPeliculas = df[df.type == 'movie']\n",
        "    \n",
        "    # Aplicar filtros opcionales si se proporcionan\n",
        "    if release_year:\n",
        "         df_soloPeliculas = df_soloPeliculas[df_soloPeliculas.release_year == release_year]\n",
        "    if platform:\n",
        "        df_soloPeliculas = df_soloPeliculas[df_soloPeliculas.platform == platform]\n",
        "    if duration_type:\n",
        "        df_soloPeliculas = df_soloPeliculas[df_soloPeliculas.duration_type == duration_type]\n",
        "\n",
        "    # Verificar que hay al menos una película que cumpla con los filtros\n",
        "    if df_soloPeliculas.empty:\n",
        "        raise ValueError(\"No existe una película que cumpla con los filtros especificados.\")\n",
        "\n",
        "    # Ordenar por duración descendente y tomar la primera fila\n",
        "    peliculaConMayorDuracion = df_soloPeliculas.sort_values('duration_type', ascending=False).iloc[0]\n",
        "\n",
        "      \n",
        "\n",
        "    detalles_peliculaConMayorDuracion = {\n",
        "        'titulo': peliculaConMayorDuracion.title,\n",
        "        'year': peliculaConMayorDuracion.release_year,\n",
        "        'platform': peliculaConMayorDuracion.platform,\n",
        "        'type': peliculaConMayorDuracion.type,\n",
        "        'duracion': peliculaConMayorDuracion.duration_int\n",
        "    }    \n",
        "    return detalles_peliculaConMayorDuracion\n"
      ],
      "metadata": {
        "id": "TfXTDLQ0ZP46"
      },
      "execution_count": null,
      "outputs": []
    },
    {
      "cell_type": "code",
      "source": [
        "count_netflix = get_max_duration(2020, 'netflix', 'min')\n",
        "print(count_netflix)"
      ],
      "metadata": {
        "colab": {
          "base_uri": "https://localhost:8080/"
        },
        "id": "lrxlS5BjboYx",
        "outputId": "8e1dfb05-f3fd-4ba6-8513-6c900624db58"
      },
      "execution_count": null,
      "outputs": [
        {
          "output_type": "stream",
          "name": "stdout",
          "text": [
            "{'titulo': 'dick johnson is dead', 'year': 2020, 'platform': 'netflix', 'type': 'movie', 'duracion': 90}\n"
          ]
        }
      ]
    },
    {
      "cell_type": "markdown",
      "source": [
        "# Cantidad de películas por plataforma con un puntaje mayor a XX en determinado año (la función debe llamarse get_score_count(platform, scored, year))"
      ],
      "metadata": {
        "id": "zelJRbxMkFUu"
      }
    },
    {
      "cell_type": "code",
      "source": [
        "def get_score_count(platform=None, scored=None, year=None):\n",
        "    \n",
        "    global df    \n",
        "\n",
        "    # Verificar que el año esté dentro del rango válido\n",
        "    if year is not None and (year <= 1920 or year >= 2021):\n",
        "        raise ValueError(\"El año debe estar dentro del rango de 1920 a 2021.\")\n",
        "\n",
        "    # Verificar que la plataforma sea una de las opciones válidas\n",
        "    if platform is not None and platform.lower() not in ['disney', 'amazon', 'hulu', 'netflix']:\n",
        "        raise ValueError(\"La plataforma debe ser una de las opciones válidas: Disney, Amazon, Hulu o Netflix.\")\n",
        "   \n",
        "    #Reemplazando porque en el data coloque los nombres completos de las plataformas\n",
        "    if platform=='disney':\n",
        "        platform='disney plus'\n",
        "  \n",
        "    if platform=='amazon':\n",
        "        platform='amazon prime'\n",
        "\n",
        "\n",
        "   # Verificar que el score esté dentro del rango válido\n",
        "    if scored is not None and (scored <= 3.34 or scored >= 3.72):\n",
        "        raise ValueError(\"El score es una promedio por lo que debe estar dentro del rango de 3.34 a 3.72.\")\n",
        "\n",
        "   # Filtrar las películas para la plataforma, año y puntaje especificados\n",
        "    df_soloPeliculasFiltradas = df[(df.platform == platform) & (df.score > scored) & (df.release_year == year) & (df.type == 'movie')]\n",
        "   \n",
        "   # Verificar que hay al menos una película que cumpla con los filtros\n",
        "    if df_soloPeliculasFiltradas.empty:\n",
        "        raise ValueError(\"No existe una película que cumpla con los filtros especificados.\")\n",
        "\n",
        "    # Agrupar por plataforma y contar el número de filas resultantes\n",
        "    count = df_soloPeliculasFiltradas.groupby('platform').size()\n",
        "    \n",
        "    return count.to_dict()"
      ],
      "metadata": {
        "id": "I8s1Oa2p1lVv"
      },
      "execution_count": null,
      "outputs": []
    },
    {
      "cell_type": "code",
      "source": [
        "get_score_count('netflix', 3.35, 2020)\n"
      ],
      "metadata": {
        "id": "TqMpMkM22L22",
        "colab": {
          "base_uri": "https://localhost:8080/"
        },
        "outputId": "ce8e1189-e0cf-44f6-ff88-5d0d95210dec"
      },
      "execution_count": null,
      "outputs": [
        {
          "output_type": "execute_result",
          "data": {
            "text/plain": [
              "{'netflix': 516}"
            ]
          },
          "metadata": {},
          "execution_count": 19
        }
      ]
    },
    {
      "cell_type": "markdown",
      "source": [
        "#Cantidad de películas por plataforma con filtro de PLATAFORMA. (La función debe llamarse get_count_platform(platform))"
      ],
      "metadata": {
        "id": "qwQxC2hX3N0J"
      }
    },
    {
      "cell_type": "code",
      "source": [
        "def get_count_platform(platform=None):\n",
        "    \n",
        "    global df    \n",
        "    \n",
        "    # Verificar que la plataforma sea una de las opciones válidas\n",
        "    if platform is not None and platform.lower() not in ['disney', 'amazon', 'hulu', 'netflix']:\n",
        "        raise ValueError(\"La plataforma debe ser una de las opciones válidas: Disney, Amazon, Hulu o Netflix.\")\n",
        "    \n",
        "    #Reemplazando porque en el data coloque los nombres completos de las plataformas\n",
        "    if platform=='disney':\n",
        "        platform='disney plus'\n",
        "  \n",
        "    if platform=='amazon':\n",
        "        platform='amazon prime'\n",
        "  \n",
        "    # Filtrar las películas para la plataforma especificada\n",
        "    df_soloPeliculasFiltradas = df[(df.platform == platform) & (df.type == 'movie')]\n",
        "\n",
        "    # Agrupar por plataforma y contar el número de filas resultantes\n",
        "    count = df_soloPeliculasFiltradas.groupby('platform').size()\n",
        "    \n",
        "    # Verificar que hay al menos una película que cumpla con los filtros\n",
        "    if df_soloPeliculasFiltradas.empty:\n",
        "        raise ValueError(\"No hay peliculas para esa plataforma\")\n",
        "    \n",
        "    return count"
      ],
      "metadata": {
        "id": "ZS8rVraE3QiX"
      },
      "execution_count": null,
      "outputs": []
    },
    {
      "cell_type": "code",
      "source": [
        "get_count_platform('disney')"
      ],
      "metadata": {
        "id": "rjvrwy1g4Pae",
        "colab": {
          "base_uri": "https://localhost:8080/"
        },
        "outputId": "4e0d426d-6644-4672-b85e-52c16c53c2bb"
      },
      "execution_count": null,
      "outputs": [
        {
          "output_type": "execute_result",
          "data": {
            "text/plain": [
              "platform\n",
              "disney plus    1052\n",
              "dtype: int64"
            ]
          },
          "metadata": {},
          "execution_count": 21
        }
      ]
    },
    {
      "cell_type": "markdown",
      "source": [
        "#Actor que más se repite según plataforma y año. (La función debe llamarse get_actor(platform, year)"
      ],
      "metadata": {
        "id": "yYljU5uN69g8"
      }
    },
    {
      "cell_type": "code",
      "source": [
        "def get_actor(platform=None, year=None):\n",
        "    \n",
        "    global df\n",
        "    \n",
        "    # Verificar que la plataforma sea una de las opciones válidas\n",
        "    if platform is not None and platform.lower() not in ['disney', 'amazon', 'hulu', 'netflix']:\n",
        "        raise ValueError(\"La plataforma debe ser una de las opciones válidas: Disney, Amazon, Hulu o Netflix.\")\n",
        "    \n",
        "    #Reemplazando porque en el data coloque los nombres completos de las plataformas\n",
        "    if platform=='disney':\n",
        "        platform='disney plus'\n",
        "  \n",
        "    if platform=='amazon':\n",
        "        platform='amazon prime'\n",
        "\n",
        "    # Verificar que el año esté dentro del rango válido\n",
        "    if year is not None and (year <= 1920 or year >= 2021):\n",
        "        raise ValueError(\"El año debe estar dentro del rango de 1920 a 2021.\")\n",
        "\n",
        "    # Filtrar las películas para la plataforma  y año especificado\n",
        "    df_plataformaAño = df[(df.platform == platform) & (df.release_year == year)]\n",
        "    \n",
        "           \n",
        "    # Poner el cast en un array para poder hacer el recorrido\n",
        "    df_castPlataformaAño= df_plataformaAño.assign(actor=df_plataformaAño.cast.str.split(',')).explode('cast')\n",
        "    \n",
        "    # Cantidad de apariciones de cada actor\n",
        "    actor_counts = df_castPlataformaAño.cast.value_counts()\n",
        "    \n",
        "    # Obtener el actor que más se repite y su cantidad de apariciones\n",
        "    max_actor = actor_counts.index[0]\n",
        "    max_count = actor_counts.iloc[0]\n",
        "    \n",
        "    # Devolver el nombre del actor y su cantidad de apariciones\n",
        "    return max_actor, max_count\n"
      ],
      "metadata": {
        "id": "FyC0M0Ch-0hD"
      },
      "execution_count": null,
      "outputs": []
    },
    {
      "cell_type": "code",
      "source": [
        "get_actor('netflix',2000)"
      ],
      "metadata": {
        "id": "n9vfPfeq9QED",
        "colab": {
          "base_uri": "https://localhost:8080/"
        },
        "outputId": "c6c47f9f-aa20-402f-9604-29852546315f"
      },
      "execution_count": null,
      "outputs": [
        {
          "output_type": "execute_result",
          "data": {
            "text/plain": [
              "('eddie murphy, janet jackson, larry miller, john ales, richard gant, anna maria horsford, melinda mcgraw, jamal mixon, gabriel williams, chris elliott',\n",
              " 1)"
            ]
          },
          "metadata": {},
          "execution_count": 23
        }
      ]
    },
    {
      "cell_type": "markdown",
      "source": [
        "# Codigo reacondicionado para FastAPi"
      ],
      "metadata": {
        "id": "QtHRWHlWO7Vk"
      }
    },
    {
      "cell_type": "code",
      "source": [
        "from typing import Optional\n",
        "from fastapi import FastAPI\n",
        "import pandas as pd\n",
        "from fastapi.responses import JSONResponse\n",
        "from fastapi.encoders import jsonable_encoder\n",
        "\n",
        "\n",
        "app = FastAPI()\n",
        "\n",
        "#Se define el data que se usará en las consultas\n",
        "df = pd.read_csv('df.csv')\n",
        "\n",
        "#consulta 1\n",
        "#Película con mayor duración con filtros opcionales de AÑO, PLATAFORMA Y TIPO DE DURACIÓN\n",
        "@app.get('/get_max_duration({release_year},{platform},{duration_type})')\n",
        "def get_max_duration(release_year: Optional[int] = None, platform: Optional[str] = None, duration_type: Optional[str] = None):\n",
        "     \n",
        "    global df    \n",
        "    \n",
        "    # Verificar que el año esté dentro del rango válido\n",
        "    if release_year is not None and (release_year <= 1920 or release_year >= 2021):\n",
        "        raise ValueError(\"El año debe estar dentro del rango de 1920 a 2021.\")\n",
        "\n",
        "    # Verificar que la plataforma sea una de las opciones válidas\n",
        "    if platform is not None and platform.lower() not in ['disney', 'amazon', 'hulu', 'netflix']:\n",
        "        raise ValueError(\"La plataforma debe ser una de las opciones válidas: Disney, Amazon, Hulu o Netflix.\")\n",
        "   \n",
        "    #Reemplazando porque en el data coloque los nombres completos de las plataformas\n",
        "    if platform=='disney':\n",
        "        platform='disney plus'\n",
        "  \n",
        "    if platform=='amazon':\n",
        "        platform='amazon prime'\n",
        "\n",
        "    # Verificar que el duracion_type esté dentro del rango válido\n",
        "    if duration_type is not None and duration_type.lower() not in ['min', 'season', 'seasons']:\n",
        "        raise ValueError(\"La duración debe ser una de las opciones válidas: min, season, seasons.\")\n",
        "\n",
        "    # Filtrar por películas únicamente\n",
        "    df_soloPeliculas = df[df.type == 'movie']\n",
        "    \n",
        "    # Aplicar filtros opcionales si se proporcionan\n",
        "    if release_year:\n",
        "         df_soloPeliculas = df_soloPeliculas[df_soloPeliculas.release_year == release_year]\n",
        "    if platform:\n",
        "        df_soloPeliculas = df_soloPeliculas[df_soloPeliculas.platform == platform]\n",
        "    if duration_type:\n",
        "        df_soloPeliculas = df_soloPeliculas[df_soloPeliculas.duration_type == duration_type]\n",
        "\n",
        "    # Verificar que hay al menos una película que cumpla con los filtros\n",
        "    if df_soloPeliculas.empty:\n",
        "        raise ValueError(\"No existe una película que cumpla con los filtros especificados.\")\n",
        "\n",
        "    # Ordenar por duración descendente y tomar la primera fila\n",
        "    peliculaConMayorDuracion = df_soloPeliculas.sort_values('duration_type', ascending=False).iloc[0]\n",
        "\n",
        "    detalles_peliculaConMayorDuracion = {\n",
        "        'titulo': peliculaConMayorDuracion.title,\n",
        "        'year': int(peliculaConMayorDuracion.release_year), # se tiene que agregar el int porque el formato int64 no permitia la serializacion del diccionario\n",
        "        'platform': peliculaConMayorDuracion.platform,\n",
        "        'type': peliculaConMayorDuracion.type,\n",
        "        'duracion': peliculaConMayorDuracion.duration_type}\n",
        "\n",
        "    return JSONResponse(content=jsonable_encoder(detalles_peliculaConMayorDuracion))\n",
        "\n",
        "\n",
        "\n",
        "#consulta2\n",
        "#Cantidad de películas por plataforma con un puntaje mayor a XX en determinado año (la función debe llamarse get_score_count(platform, scored, year))\n",
        "@app.get('/get_score_count({platform},{scored},{release_year})')\n",
        "def get_score_count(platform: str =None, scored:float=None, release_year:int=None):\n",
        "    \n",
        "    global df    \n",
        "\n",
        "    # Verificar que el año esté dentro del rango válido\n",
        "    if release_year is not None and (release_year <= 1920 or release_year >= 2021):\n",
        "        raise ValueError(\"El año debe estar dentro del rango de 1920 a 2021.\")\n",
        "\n",
        "    # Verificar que la plataforma sea una de las opciones válidas\n",
        "    if platform is not None and platform.lower() not in ['disney', 'amazon', 'hulu', 'netflix']:\n",
        "        raise ValueError(\"La plataforma debe ser una de las opciones válidas: Disney, Amazon, Hulu o Netflix.\")\n",
        "   \n",
        "    #Reemplazando porque en el data coloque los nombres completos de las plataformas\n",
        "    if platform=='disney':\n",
        "        platform='disney plus'\n",
        "  \n",
        "    if platform=='amazon':\n",
        "        platform='amazon prime'\n",
        "\n",
        "   # Verificar que el score esté dentro del rango válido, error de cero y cinco\n",
        "    if scored is not None and (scored <= 3.34 or scored >= 3.72):\n",
        "        raise ValueError(\"El score es una promedio por lo que debe estar dentro del rango de 3.34 a 3.72.\")\n",
        "    \n",
        "   # Filtrar las películas para la plataforma, año y puntaje especificados\n",
        "    df_soloPeliculasFiltradas = df[(df.platform == platform) & (df.score > scored) & (df.release_year == release_year) & (df.type == 'movie')]\n",
        "\n",
        "   # Verificar que hay al menos una película que cumpla con los filtros\n",
        "    if df_soloPeliculasFiltradas.empty:\n",
        "        raise ValueError(\"No existe una película que cumpla con los filtros especificados.\")\n",
        "\n",
        "    # Agrupar por plataforma y contar el número de filas resultantes\n",
        "    count = df_soloPeliculasFiltradas.groupby('platform').size()\n",
        "    \n",
        "    return count.to_dict()\n",
        "\n",
        "\n",
        "#Consulta3\n",
        "#Cantidad de películas por plataforma con filtro de PLATAFORMA. (La función debe llamarse get_count_platform(platform))\n",
        "@app.get('/get_count_platform({platform})')\n",
        "def get_count_platform(platform=None):\n",
        "    \n",
        "    global df    \n",
        "    \n",
        "    # Verificar que la plataforma sea una de las opciones válidas\n",
        "    if platform is not None and platform.lower() not in ['disney', 'amazon', 'hulu', 'netflix']:\n",
        "        raise ValueError(\"La plataforma debe ser una de las opciones válidas: Disney, Amazon, Hulu o Netflix.\")\n",
        "    \n",
        "    #Reemplazando porque en el data coloque los nombres completos de las plataformas\n",
        "    if platform=='disney':\n",
        "        platform='disney plus'\n",
        "  \n",
        "    if platform=='amazon':\n",
        "        platform='amazon prime'\n",
        "  \n",
        "    # Filtrar las películas para la plataforma especificada\n",
        "    df_soloPeliculasFiltradas = df[(df.platform == platform) & (df.type == 'movie')]\n",
        "\n",
        "    # Agrupar por plataforma y contar el número de filas resultantes\n",
        "    count = df_soloPeliculasFiltradas.groupby('platform').size()\n",
        "    \n",
        "    # Verificar que hay al menos una película que cumpla con los filtros\n",
        "    if df_soloPeliculasFiltradas.empty:\n",
        "        raise ValueError(\"No hay peliculas para esa plataforma\")\n",
        "    \n",
        "    return count.to_dict()\n",
        "\n",
        "\n",
        "\n",
        "#consulta 4\n",
        "#Actor que más se repite según plataforma y año. (La función debe llamarse get_actor(platform, year)\n",
        "@app.get('/get_actor/{platform},{year}')\n",
        "def get_actor(platform: str = None, year: int = None):\n",
        "    \n",
        "    global df\n",
        "    \n",
        "    # Verificar que la plataforma sea una de las opciones válidas\n",
        "    if platform is not None and platform.lower() not in ['disney', 'amazon', 'hulu', 'netflix']:\n",
        "        raise ValueError(\"La plataforma debe ser una de las opciones válidas: Disney, Amazon, Hulu o Netflix.\")\n",
        "    \n",
        "    #Reemplazando porque en el data coloque los nombres completos de las plataformas\n",
        "    if platform=='disney':\n",
        "        platform='disney plus'\n",
        "  \n",
        "    if platform=='amazon':\n",
        "        platform='amazon prime'\n",
        "\n",
        "    # Verificar que el año esté dentro del rango válido\n",
        "    if year is not None and (year <= 1920 or year >= 2021):\n",
        "        raise ValueError(\"El año debe estar dentro del rango de 1920 a 2021.\")\n",
        "\n",
        "    # Filtrar las películas para la plataforma y año especificado\n",
        "    df_plataformaAño = df[(df.platform == platform) & (df.release_year == year)]\n",
        "         \n",
        "    # Poner el cast en un array para poder hacer el recorrido\n",
        "    df_castPlataformaAño= df_plataformaAño.assign(actor=df_plataformaAño.cast.str.split(',')).explode('cast')\n",
        "    \n",
        "    # Contar la cantidad de apariciones de cada actor\n",
        "    actor_counts = df_castPlataformaAño.cast.value_counts()\n",
        "    \n",
        "    # Obtener el actor que más se repite y su cantidad de apariciones\n",
        "    max_actor = actor_counts.index[0]\n",
        "    max_count = int(actor_counts.iloc[0])\n",
        "    \n",
        "    # Creando un diccionario para poder ver los resultados \n",
        "    actorfamoso = {'actor': max_actor, 'count': max_count}\n",
        "    return JSONResponse(content=jsonable_encoder(actorfamoso))"
      ],
      "metadata": {
        "id": "mEqzgdAoO3lO"
      },
      "execution_count": null,
      "outputs": []
    },
    {
      "cell_type": "markdown",
      "source": [
        "<p align=\"right\">🙇‍♀️</p>"
      ],
      "metadata": {
        "id": "h9Fdkb2wcatR"
      }
    }
  ]
}
